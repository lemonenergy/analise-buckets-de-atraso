{
 "cells": [
  {
   "cell_type": "markdown",
   "metadata": {},
   "source": [
    "# 0 - Setup"
   ]
  },
  {
   "cell_type": "code",
   "execution_count": 1,
   "metadata": {},
   "outputs": [
    {
     "name": "stderr",
     "output_type": "stream",
     "text": [
      "ERROR: Ignored the following versions that require a different python version: 2.10.0 Requires-Python >=3.6, <3.10; 2.11.0 Requires-Python >=3.6, <3.10; 2.12.0 Requires-Python >=3.6, <3.10; 2.13.0 Requires-Python >=3.6, <3.10; 2.13.1 Requires-Python >=3.6, <3.10; 2.14.0 Requires-Python >=3.6, <3.10; 2.15.0 Requires-Python >=3.6, <3.10; 2.16.0 Requires-Python >=3.6, <3.10; 2.16.1 Requires-Python >=3.6, <3.10; 2.17.0 Requires-Python >=3.6, <3.10; 2.18.0 Requires-Python >=3.6, <3.10; 2.19.0 Requires-Python >=3.6, <3.10; 2.20.0 Requires-Python >=3.6, <3.10; 2.21.0 Requires-Python >=3.6, <3.10; 2.22.0 Requires-Python >=3.6, <3.10; 2.22.1 Requires-Python >=3.6, <3.10; 2.23.0 Requires-Python >=3.6, <3.10; 2.23.1 Requires-Python >=3.6, <3.10; 2.23.2 Requires-Python >=3.6, <3.10; 2.23.3 Requires-Python >=3.6, <3.10; 2.24.0 Requires-Python >=3.6, <3.10; 2.24.1 Requires-Python >=3.6, <3.10; 2.25.0 Requires-Python >=3.6, <3.10; 2.25.1 Requires-Python >=3.6, <3.10; 2.25.2 Requires-Python >=3.6, <3.10; 2.26.0 Requires-Python >=3.6, <3.10; 2.27.0 Requires-Python >=3.6, <3.10; 2.27.1 Requires-Python >=3.6, <3.10; 2.28.0 Requires-Python >=3.6, <3.10; 2.28.1 Requires-Python >=3.6, <3.10; 2.29.0 Requires-Python >=3.6, <3.10; 2.30.0 Requires-Python >=3.6, <3.11; 2.30.1 Requires-Python >=3.6, <3.11; 2.31.0 Requires-Python >=3.6, <3.11; 2.32.0 Requires-Python >=3.6, <3.11; 2.33.0 Requires-Python >=3.6, <3.11; 2.34.0 Requires-Python >=3.6, <3.11; 2.34.1 Requires-Python >=3.6, <3.11; 2.34.2 Requires-Python >=3.6, <3.11; 2.34.3 Requires-Python >=3.6, <3.11; 2.34.4 Requires-Python >=3.6, <3.11; 2.6.2 Requires-Python >=3.6, <3.9; 2.7.0 Requires-Python >=3.6, <3.10; 2.8.0 Requires-Python >=3.6, <3.10; 2.9.0 Requires-Python >=3.6, <3.10; 3.0.0 Requires-Python >=3.6, <3.11; 3.0.0b1 Requires-Python >=3.6, <3.11; 3.0.1 Requires-Python >=3.6, <3.11; 3.1.0 Requires-Python >=3.6, <3.11; 3.2.0 Requires-Python >=3.6, <3.11; 3.3.0 Requires-Python >=3.7, <3.11; 3.3.1 Requires-Python >=3.7, <3.11; 3.3.2 Requires-Python >=3.7, <3.11; 3.3.3 Requires-Python >=3.7, <3.11; 3.3.5 Requires-Python >=3.7, <3.11; 3.3.6 Requires-Python >=3.7, <3.11\n",
      "ERROR: Could not find a version that satisfies the requirement google-cloud-bigquery==2.34.3 (from versions: 0.20.0, 0.21.0, 0.22.0, 0.22.1, 0.23.0, 0.24.0, 0.25.0, 0.26.0, 0.27.0, 0.28.0, 0.29.0, 0.30.0, 0.31.0, 0.32.0, 1.0.0, 1.1.0, 1.2.0, 1.3.0, 1.4.0, 1.5.0, 1.5.1, 1.5.2, 1.6.0, 1.6.1, 1.6.2, 1.7.0, 1.7.2, 1.8.0, 1.8.1, 1.8.2, 1.9.0, 1.9.1, 1.10.0, 1.10.1, 1.11.1, 1.11.2, 1.11.3, 1.11.4, 1.12.0, 1.12.1, 1.12.2, 1.13.0, 1.13.1, 1.14.0, 1.14.1, 1.15.0, 1.15.1, 1.16.0, 1.16.1, 1.17.0, 1.17.1, 1.18.0, 1.18.1, 1.19.0, 1.19.1, 1.20.0, 1.21.0, 1.22.0, 1.23.0, 1.23.1, 1.24.0, 1.25.0, 1.26.0, 1.26.1, 1.27.2, 1.28.0, 1.28.1, 1.28.2, 1.28.3, 2.0.0, 2.1.0, 2.2.0, 2.3.1, 2.4.0, 2.5.0, 2.6.0, 2.6.1, 3.4.0, 3.4.1, 3.4.2, 3.5.0, 3.6.0, 3.7.0, 3.8.0, 3.9.0, 3.10.0, 3.11.0, 3.11.1, 3.11.2, 3.11.3, 3.11.4, 3.12.0, 3.13.0, 3.14.0rc0, 3.14.0, 3.14.1)\n",
      "ERROR: No matching distribution found for google-cloud-bigquery==2.34.3\n"
     ]
    },
    {
     "name": "stdout",
     "output_type": "stream",
     "text": [
      "Note: you may need to restart the kernel to use updated packages.\n"
     ]
    },
    {
     "name": "stderr",
     "output_type": "stream",
     "text": [
      "c:\\Users\\DELL\\anaconda3\\Lib\\site-packages\\google\\auth\\_default.py:78: UserWarning: Your application has authenticated using end user credentials from Google Cloud SDK without a quota project. You might receive a \"quota exceeded\" or \"API not enabled\" error. See the following page for troubleshooting: https://cloud.google.com/docs/authentication/adc-troubleshooting/user-creds. \n",
      "  warnings.warn(_CLOUD_SDK_CREDENTIALS_WARNING)\n"
     ]
    },
    {
     "name": "stdout",
     "output_type": "stream",
     "text": [
      "Requirement already satisfied: plotly==5.17.0 in c:\\users\\dell\\anaconda3\\lib\\site-packages (5.17.0)\n",
      "Requirement already satisfied: tenacity>=6.2.0 in c:\\users\\dell\\anaconda3\\lib\\site-packages (from plotly==5.17.0) (8.2.2)\n",
      "Requirement already satisfied: packaging in c:\\users\\dell\\anaconda3\\lib\\site-packages (from plotly==5.17.0) (23.0)\n",
      "Note: you may need to restart the kernel to use updated packages.\n"
     ]
    }
   ],
   "source": [
    "import pandas as pd\n",
    "pd.set_option('display.float_format', lambda x: f'{x:.3f}')\n",
    "pd.set_option('display.max_colwidth', 100)\n",
    "\n",
    "import numpy as np \n",
    "from matplotlib import pyplot as plt\n",
    "\n",
    "%pip install -r requirements.txt\n",
    "from google.cloud import bigquery\n",
    "pmc = \"`lemoncake-prod.serving_layer.modelo_para_calculos_finais_controle_recebimentos_join_cobrancas_dynamo`\"\n",
    "project_id = 'lemoncake-prod'\n",
    "client = bigquery.Client(project = project_id)\n",
    "\n",
    "%pip install plotly==5.17.0\n",
    "import plotly.graph_objects as go\n",
    "import plotly.express as px\n",
    "\n",
    "from datetime import datetime, timedelta"
   ]
  },
  {
   "cell_type": "markdown",
   "metadata": {},
   "source": [
    "# 1 - Lendo os Dados"
   ]
  },
  {
   "cell_type": "code",
   "execution_count": 10,
   "metadata": {},
   "outputs": [],
   "source": [
    "data_inicio = \"'2020-01-01'\"\n",
    "data_fim = f\"'{datetime.strftime(datetime.now(), '%Y-%m-%d')}'\"\n",
    "verde_lemon = 'rgb(0,128,89)'\n",
    "disco_n_desejadas = \"('CELPE')\"\n",
    "n_min_cobrancas = 1\n",
    "\n",
    "clusters_colors = {1:'rgb(5,191,255)',\n",
    "                   2:'rgb(5,191,217)',\n",
    "                   3:'rgb(157,181,123)',\n",
    "                   4:'rgb(200,50,57)',\n",
    "                   5:'rgb(255,26,49)',\n",
    "                   6:'rgb(83,0,116)',\n",
    "                   }"
   ]
  },
  {
   "cell_type": "code",
   "execution_count": 16,
   "metadata": {},
   "outputs": [
    {
     "data": {
      "text/plain": [
       "\"'2023-12-20'\""
      ]
     },
     "execution_count": 16,
     "metadata": {},
     "output_type": "execute_result"
    }
   ],
   "source": [
    "data_fim"
   ]
  },
  {
   "cell_type": "code",
   "execution_count": 17,
   "metadata": {},
   "outputs": [
    {
     "data": {
      "text/plain": [
       "\"'2020-01-01'\""
      ]
     },
     "execution_count": 17,
     "metadata": {},
     "output_type": "execute_result"
    }
   ],
   "source": [
    "data_inicio"
   ]
  },
  {
   "cell_type": "code",
   "execution_count": 18,
   "metadata": {},
   "outputs": [],
   "source": [
    "query = f'''WITH boletos_de_interesse AS(\n",
    "            SELECT\n",
    "                --CONCAT(IFNULL(TRIM(UPPER(razao_social)),''),'_',IFNULL(TRIM(UPPER(documento_customer)),'')) AS cliente,\n",
    "                IFNULL(TRIM(UPPER(razao_social)),'') AS cliente,\n",
    "                IFNULL(UPPER(documento_customer),'') AS documento_customer,\n",
    "                nr_instalacao,\n",
    "                disco, \n",
    "                gerador, \n",
    "                chave,  \n",
    "                data_emissao, \n",
    "                data_vencimento,\n",
    "                data_liquidacao,\n",
    "                valor_original_brl,  \n",
    "            CASE \n",
    "                WHEN data_liquidacao IS NULL THEN 'em_aberto'\n",
    "                ELSE 'pago'\n",
    "            END AS situacao_de_pgto,\n",
    "            CASE \n",
    "                WHEN data_liquidacao IS NULL THEN valor_original_brl\n",
    "                ELSE 0\n",
    "            END as valor_em_aberto,\n",
    "            CASE\n",
    "                WHEN data_liquidacao > data_vencimento THEN valor_original_brl\n",
    "                WHEN (data_liquidacao IS NULL) AND (data_vencimento < {data_fim}) THEN valor_original_brl\n",
    "                ELSE 0\n",
    "            END AS valor_divida,\n",
    "            CASE \n",
    "                WHEN data_liquidacao IS NULL THEN EXTRACT(DAY FROM {data_fim} - data_vencimento)\n",
    "                ELSE EXTRACT(DAY FROM data_liquidacao - data_vencimento)\n",
    "            END AS dias_sem_pgto, \n",
    "            FROM {pmc}\n",
    "                WHERE data_emissao BETWEEN {data_inicio} AND {data_fim}\n",
    "                AND data_vencimento <= {data_fim}\n",
    "                AND chave != 'Original Parcelado'\n",
    "                AND disco NOT IN {disco_n_desejadas}\n",
    "                ORDER BY cliente DESC, data_emissao ASC\n",
    "            )\n",
    "            SELECT\n",
    "                cliente,\n",
    "                ARRAY_AGG(documento_customer) AS documento_customer,\n",
    "                COUNT(*) AS qt_de_cobrancas,\n",
    "                ARRAY_AGG(nr_instalacao) AS nrs_de_instalacao,\n",
    "                ARRAY_AGG(disco) AS discos,\n",
    "                ARRAY_AGG(gerador) AS geradores, \n",
    "                ARRAY_AGG(chave) AS chaves,\n",
    "                ARRAY_AGG(data_emissao) AS datas_de_emissao, \n",
    "                ARRAY_AGG(data_vencimento) AS datas_de_vencimento, \n",
    "                ARRAY_AGG(CASE WHEN data_liquidacao IS NULL THEN 'sem_data_de_liquidacao' ELSE CAST(data_liquidacao AS STRING) END) AS datas_de_liquidacao,\n",
    "                ARRAY_AGG(valor_original_brl) AS valores_originais,\n",
    "                ARRAY_AGG(valor_em_aberto) AS valores_em_aberto,\n",
    "                ARRAY_AGG(valor_divida) AS valores_divida, \n",
    "                ARRAY_AGG(situacao_de_pgto) AS situacoes_de_pagamento,\n",
    "                ARRAY_AGG(dias_sem_pgto) AS dias_sem_pgto, \n",
    "                ARRAY_AGG(CASE WHEN dias_sem_pgto > 0 THEN FALSE ELSE TRUE END) as pgto_em_dia\n",
    "                FROM boletos_de_interesse\n",
    "            GROUP BY cliente'''"
   ]
  },
  {
   "cell_type": "code",
   "execution_count": 19,
   "metadata": {},
   "outputs": [],
   "source": [
    "dados_clientes_raw = client.query(query=query).to_dataframe()\n",
    "\n",
    "cond = dados_clientes_raw['qt_de_cobrancas'] >= n_min_cobrancas\n",
    "dados_clientes_raw = dados_clientes_raw.loc[cond,:].copy()"
   ]
  },
  {
   "cell_type": "code",
   "execution_count": 21,
   "metadata": {},
   "outputs": [],
   "source": [
    "def get_main_disco(x):\n",
    "    not_null_discos = [d for d in x if d!= '']\n",
    "    if len(set(not_null_discos))>1:\n",
    "        values,counts = np.unique(x,return_counts=True)\n",
    "        counts_dict = dict(zip(counts,values))\n",
    "        most_freq = counts_dict[max(list(counts_dict.keys()))]\n",
    "        result = most_freq\n",
    "    elif len(set(not_null_discos)) == 1:\n",
    "        result = not_null_discos[0]        \n",
    "    return result\n",
    "\n",
    "def get_main_gerador(x):\n",
    "    not_null_geradores = [g for g in x if g != '']\n",
    "    if len(set(not_null_geradores))>1:\n",
    "        values,counts = np.unique(x,return_counts=True)\n",
    "        counts_dict = dict(zip(counts,values))\n",
    "        most_freq = counts_dict[max(list(counts_dict.keys()))]\n",
    "        result = most_freq\n",
    "    elif len(set(not_null_geradores)) == 1:\n",
    "        result = not_null_geradores[0]        \n",
    "    return result\n",
    "\n",
    "def get_n_de_dividas(x):\n",
    "    values,counts = np.unique(x,return_counts=True)\n",
    "    counts_dict = dict(zip(values,counts))\n",
    "    if False in set(counts_dict.keys()):\n",
    "        n_dividas = counts_dict[False]\n",
    "    else:           \n",
    "        n_dividas = 0\n",
    "    return n_dividas\n",
    "\n",
    "def get_n_dividas_em_aberto(x):\n",
    "    values,counts = np.unique(x,return_counts=True)\n",
    "    counts_dict = dict(zip(values,counts))\n",
    "    if 'em_aberto' in set(counts_dict.keys()):\n",
    "        n_dividas_em_aberto = counts_dict['em_aberto']\n",
    "    else:           \n",
    "        n_dividas_em_aberto = 0\n",
    "    return n_dividas_em_aberto\n",
    "\n",
    "def get_ultima_data_emissao(x):\n",
    "    return x.max()\n",
    "\n",
    "def get_ticket_medio(x):\n",
    "    return x.mean()\n",
    "\n",
    "dados_clientes_raw['disco_principal'] = dados_clientes_raw['discos'].apply(get_main_disco)\n",
    "dados_clientes_raw['gerador_principal'] = dados_clientes_raw['geradores'].apply(get_main_gerador)\n",
    "dados_clientes_raw['ultima_data_de_emissao'] = dados_clientes_raw['datas_de_emissao'].apply(get_ultima_data_emissao)\n",
    "dados_clientes_raw['ticket_medio'] = dados_clientes_raw['valores_originais'].apply(get_ticket_medio)\n",
    "dados_clientes_raw['n_total_de_dividas'] = dados_clientes_raw['pgto_em_dia'].apply(get_n_de_dividas)\n",
    "dados_clientes_raw['n_dividas_em_aberto'] = dados_clientes_raw['situacoes_de_pagamento'].apply(get_n_dividas_em_aberto)"
   ]
  },
  {
   "cell_type": "code",
   "execution_count": 35,
   "metadata": {},
   "outputs": [],
   "source": [
    "dados_clientes_raw['percentual_cobrancas_pagas'] = 1 - (dados_clientes_raw['n_dividas_em_aberto']/dados_clientes_raw['qt_de_cobrancas'])"
   ]
  },
  {
   "cell_type": "code",
   "execution_count": 22,
   "metadata": {},
   "outputs": [],
   "source": [
    "def get_frequencia(x):\n",
    "    return (~x).sum()/len(x)\n",
    "\n",
    "dados_clientes_raw['frequencia'] = dados_clientes_raw['pgto_em_dia'].apply(get_frequencia)"
   ]
  },
  {
   "cell_type": "code",
   "execution_count": 23,
   "metadata": {},
   "outputs": [],
   "source": [
    "def get_severidade(x):\n",
    "    return x.mean()\n",
    "\n",
    "dados_clientes_raw['severidade']  = dados_clientes_raw['dias_sem_pgto'].apply(get_severidade)"
   ]
  },
  {
   "cell_type": "code",
   "execution_count": 24,
   "metadata": {},
   "outputs": [],
   "source": [
    "def get_divida_media(x):\n",
    "    return x.mean()\n",
    "\n",
    "dados_clientes_raw['divida_media'] = dados_clientes_raw['valores_divida'].apply(get_divida_media)"
   ]
  },
  {
   "cell_type": "code",
   "execution_count": 25,
   "metadata": {},
   "outputs": [],
   "source": [
    "def get_total_em_aberto(x):\n",
    "    return x.sum()\n",
    "\n",
    "dados_clientes_raw['valor_total_em_aberto'] = dados_clientes_raw['valores_em_aberto'].apply(get_total_em_aberto)"
   ]
  },
  {
   "cell_type": "markdown",
   "metadata": {},
   "source": [
    "# 2 - Calculando Bucktes de Atraso "
   ]
  },
  {
   "cell_type": "code",
   "execution_count": 122,
   "metadata": {},
   "outputs": [],
   "source": [
    "cols_interesse = ['cliente',\n",
    "                  'frequencia',\n",
    "                  'severidade',\n",
    "                  'percentual_cobrancas_pagas',\n",
    "                  'n_dividas_em_aberto',\n",
    "                  'dias_sem_pgto',\n",
    "                  'datas_de_emissao',\n",
    "                  'datas_de_vencimento',\n",
    "                  'datas_de_liquidacao',\n",
    "                  'valores_originais',\n",
    "                  'situacoes_de_pagamento']"
   ]
  },
  {
   "cell_type": "code",
   "execution_count": 123,
   "metadata": {},
   "outputs": [],
   "source": [
    "def get_faixas_de_atraso(df,perc_pag_min, ultima_data_emissao_min):\n",
    "    cond0 = df['percentual_cobrancas_pagas'] >= perc_pag_min\n",
    "    cond1 = df['datas_de_emissao'].apply(lambda x: x[-1]) >= ultima_data_emissao_min\n",
    "    cond = cond0 & cond1\n",
    "\n",
    "    clientes_interesse = df.loc[cond,cols_interesse].copy()\n",
    "\n",
    "    limites = [-float('inf'),0,10,20,30,40,50,60,float('inf')]\n",
    "    rotulos = ['menor_ou_igual_0',\n",
    "            'entre 0 e 10',\n",
    "            'entre 10 e 20', \n",
    "            'entre 20 e 30', \n",
    "            'entre 30 e 40',\n",
    "            'entre 40 e 50',\n",
    "            'entre 50 e 60',\n",
    "            'maior do que 60']\n",
    "\n",
    "    clientes_interesse['faixa_de_atraso_medio'] = pd.cut(clientes_interesse['severidade'], bins = limites, labels=rotulos, right = False)\n",
    "    result = clientes_interesse['faixa_de_atraso_medio'].value_counts(normalize=True, sort = False).to_frame()\n",
    "    result.reset_index(drop=False, inplace=True)\n",
    "    result.rename(columns={'index':'faixa_de_atraso',\n",
    "                        'faixa_de_atraso_medio':'percentual_de_clientes'},\n",
    "                         inplace = True)\n",
    "    \n",
    "    result_qt = clientes_interesse['faixa_de_atraso_medio'].value_counts(normalize=False, sort = False).to_frame()\n",
    "    result_qt.reset_index(drop=False, inplace=True)\n",
    "    result_qt.rename(columns={'index':'faixa_de_atraso',\n",
    "                        'faixa_de_atraso_medio':'quantidade_de_clientes'},\n",
    "                         inplace = True)\n",
    "    \n",
    "    result_final = pd.merge(right=result_qt,\n",
    "                            left = result,\n",
    "                            on = 'faixa_de_atraso',\n",
    "                            how = 'inner')\n",
    "    \n",
    "    clientes_interesse.sort_values(by='severidade', ascending=True, inplace=True)\n",
    "\n",
    "    \n",
    "    \n",
    "    return result_final, clientes_interesse"
   ]
  },
  {
   "cell_type": "code",
   "execution_count": 124,
   "metadata": {},
   "outputs": [
    {
     "data": {
      "text/html": [
       "<div>\n",
       "<style scoped>\n",
       "    .dataframe tbody tr th:only-of-type {\n",
       "        vertical-align: middle;\n",
       "    }\n",
       "\n",
       "    .dataframe tbody tr th {\n",
       "        vertical-align: top;\n",
       "    }\n",
       "\n",
       "    .dataframe thead th {\n",
       "        text-align: right;\n",
       "    }\n",
       "</style>\n",
       "<table border=\"1\" class=\"dataframe\">\n",
       "  <thead>\n",
       "    <tr style=\"text-align: right;\">\n",
       "      <th></th>\n",
       "      <th>faixa_de_atraso</th>\n",
       "      <th>percentual_de_clientes</th>\n",
       "      <th>quantidade_de_clientes</th>\n",
       "    </tr>\n",
       "  </thead>\n",
       "  <tbody>\n",
       "    <tr>\n",
       "      <th>0</th>\n",
       "      <td>menor_ou_igual_0</td>\n",
       "      <td>0.319</td>\n",
       "      <td>1243</td>\n",
       "    </tr>\n",
       "    <tr>\n",
       "      <th>1</th>\n",
       "      <td>entre 0 e 10</td>\n",
       "      <td>0.536</td>\n",
       "      <td>2088</td>\n",
       "    </tr>\n",
       "    <tr>\n",
       "      <th>2</th>\n",
       "      <td>entre 10 e 20</td>\n",
       "      <td>0.091</td>\n",
       "      <td>355</td>\n",
       "    </tr>\n",
       "    <tr>\n",
       "      <th>3</th>\n",
       "      <td>entre 20 e 30</td>\n",
       "      <td>0.040</td>\n",
       "      <td>156</td>\n",
       "    </tr>\n",
       "    <tr>\n",
       "      <th>4</th>\n",
       "      <td>entre 30 e 40</td>\n",
       "      <td>0.009</td>\n",
       "      <td>37</td>\n",
       "    </tr>\n",
       "    <tr>\n",
       "      <th>5</th>\n",
       "      <td>entre 40 e 50</td>\n",
       "      <td>0.003</td>\n",
       "      <td>10</td>\n",
       "    </tr>\n",
       "    <tr>\n",
       "      <th>6</th>\n",
       "      <td>entre 50 e 60</td>\n",
       "      <td>0.001</td>\n",
       "      <td>2</td>\n",
       "    </tr>\n",
       "    <tr>\n",
       "      <th>7</th>\n",
       "      <td>maior do que 60</td>\n",
       "      <td>0.001</td>\n",
       "      <td>4</td>\n",
       "    </tr>\n",
       "  </tbody>\n",
       "</table>\n",
       "</div>"
      ],
      "text/plain": [
       "    faixa_de_atraso  percentual_de_clientes  quantidade_de_clientes\n",
       "0  menor_ou_igual_0                   0.319                    1243\n",
       "1      entre 0 e 10                   0.536                    2088\n",
       "2     entre 10 e 20                   0.091                     355\n",
       "3     entre 20 e 30                   0.040                     156\n",
       "4     entre 30 e 40                   0.009                      37\n",
       "5     entre 40 e 50                   0.003                      10\n",
       "6     entre 50 e 60                   0.001                       2\n",
       "7   maior do que 60                   0.001                       4"
      ]
     },
     "execution_count": 124,
     "metadata": {},
     "output_type": "execute_result"
    }
   ],
   "source": [
    "faixas, clientes = get_faixas_de_atraso(df = dados_clientes_raw[cols_interesse],\n",
    "                                        perc_pag_min = 0.9,\n",
    "                                        ultima_data_emissao_min = '2023-01-01')\n",
    "faixas                   "
   ]
  },
  {
   "cell_type": "code",
   "execution_count": 125,
   "metadata": {},
   "outputs": [],
   "source": [
    "faixas.to_csv('faixas_de_atraso.csv', index=False)\n",
    "clientes.to_csv('clientes.csv', index = False)"
   ]
  }
 ],
 "metadata": {
  "kernelspec": {
   "display_name": "base",
   "language": "python",
   "name": "python3"
  },
  "language_info": {
   "codemirror_mode": {
    "name": "ipython",
    "version": 3
   },
   "file_extension": ".py",
   "mimetype": "text/x-python",
   "name": "python",
   "nbconvert_exporter": "python",
   "pygments_lexer": "ipython3",
   "version": "3.11.4"
  }
 },
 "nbformat": 4,
 "nbformat_minor": 2
}
